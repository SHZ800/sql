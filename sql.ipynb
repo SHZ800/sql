{
 "cells": [
  {
   "cell_type": "code",
   "execution_count": 3,
   "metadata": {},
   "outputs": [],
   "source": [
    "import mysql.connector\n",
    "from mysql.connector import Error\n",
    "import os\n",
    "import datetime"
   ]
  },
  {
   "cell_type": "code",
   "execution_count": 12,
   "metadata": {},
   "outputs": [],
   "source": [
    "user_password= os.environ.get ('mubarak')\n"
   ]
  },
  {
   "cell_type": "markdown",
   "metadata": {},
   "source": [
    "connect takes host, user, password, database name"
   ]
  },
  {
   "cell_type": "code",
   "execution_count": 13,
   "metadata": {},
   "outputs": [],
   "source": [
    "try:\n",
    "    connection= mysql.connector.connect( host ='localhost', user='root', password= user_password, \n",
    "    database='supermarket')\n",
    "except Error as err:\n",
    "    print (err)"
   ]
  },
  {
   "cell_type": "code",
   "execution_count": 4,
   "metadata": {},
   "outputs": [
    {
     "name": "stdout",
     "output_type": "stream",
     "text": [
      "1062 (23000): Duplicate entry 'PRD101' for key 'products.PRIMARY'\n"
     ]
    }
   ],
   "source": [
    "product= ('PRD101', 'Rice 50kg', 43000,100)\n",
    "query=\"\"\"\n",
    "Insert into products (product_id, product_name, price, quantity)\n",
    "values (%s,%s,%s,%s)\n",
    "\"\"\"\n",
    "try:\n",
    "    cursor= connection.cursor()\n",
    "    cursor.execute(query,product)\n",
    "    connection.commit()\n",
    "    print(f\"{cursor.rowcount} record(s) successfully added\")\n",
    "except Error as err:\n",
    "    print(err)"
   ]
  },
  {
   "cell_type": "code",
   "execution_count": 5,
   "metadata": {},
   "outputs": [],
   "source": [
    "products = [\n",
    "    ('PRD102','Golden Penny Spag',9000, 20),\n",
    "    ('PRD103','Close up paste',500, 20),\n",
    "    ('PRD104','Detergent 1kg',1200, 30),\n",
    "    ('PRD105','Molfix Diapers',7000, 20),\n",
    "    ('PRD106','Three crowns',1700, 25),\n",
    "]"
   ]
  },
  {
   "cell_type": "code",
   "execution_count": 6,
   "metadata": {},
   "outputs": [
    {
     "name": "stdout",
     "output_type": "stream",
     "text": [
      "5 record(s) successfully added\n"
     ]
    }
   ],
   "source": [
    "query=\"\"\"\n",
    "Insert into products (product_id, product_name, price, quantity)\n",
    "values (%s,%s,%s,%s)\n",
    "\"\"\"\n",
    "try:\n",
    "    cursor= connection.cursor()\n",
    "    cursor.executemany(query,products)\n",
    "    connection.commit()\n",
    "    print(f\"{cursor.rowcount} record(s) successfully added\")\n",
    "except Error as err:\n",
    "    print(err)"
   ]
  },
  {
   "cell_type": "code",
   "execution_count": 10,
   "metadata": {},
   "outputs": [],
   "source": [
    "customers=[\n",
    "    ('CST101', 'Lola Sola', 'F','Ring road Ibadan','08023245632'),\n",
    "    ('CST102', 'Ayo Babatunde', 'M','Ring road Ibadan','08023245672'),\n",
    "    ('CST103', 'Akinola Yahmad', 'F','Ring road Ibadan','08023895632'),\n",
    "    ('CST104', 'Thomas AJayi', 'M','Ring road Ibadan','08021245632'),\n",
    "    ('CST105', 'Bode Thomas', 'F','Ring road Ibadan','08023465632'),\n",
    "]"
   ]
  },
  {
   "cell_type": "code",
   "execution_count": 12,
   "metadata": {},
   "outputs": [
    {
     "name": "stdout",
     "output_type": "stream",
     "text": [
      "5 record(s) successfully added\n"
     ]
    }
   ],
   "source": [
    "query=\"\"\"\n",
    "Insert into customers(customer_id, customer_name, gender,address,phone_number)\n",
    "values (%s,%s,%s,%s,%s)\n",
    "\"\"\"\n",
    "try:\n",
    "    cursor= connection.cursor()\n",
    "    cursor.executemany(query,customers)\n",
    "    connection.commit()\n",
    "    print(f\"{cursor.rowcount} record(s) successfully added\")\n",
    "except Error as err:\n",
    "    print(err)"
   ]
  },
  {
   "cell_type": "code",
   "execution_count": 16,
   "metadata": {},
   "outputs": [
    {
     "name": "stdout",
     "output_type": "stream",
     "text": [
      "[('PRD101', 'Rice 50kg')]\n"
     ]
    }
   ],
   "source": [
    "query= \"\"\"\n",
    "select product_id, product_name from products where product_id=%s\n",
    "\"\"\"\n",
    "try:\n",
    "    cursor= connection.cursor()\n",
    "    cursor.execute(query,('PRD101',))\n",
    "    results= cursor.fetchall()\n",
    "    print(results)\n",
    "except Error as err:\n",
    "    print (Error)\n",
    "\n",
    "    "
   ]
  },
  {
   "cell_type": "markdown",
   "metadata": {},
   "source": [
    "Steps\n",
    "1. Set customer id\n",
    "2. set list of products(product_id, quantity)\n",
    "3. For each product in the list,we will retrieve the product price and quantity from the database\n",
    "4. We will check if the quantity the customer wants to buy if available\n",
    "5. ifit, will update the product quantity for thst product,we will also calculate the price for the product based on the quantity the customer is buying\n",
    "6. Insert into the orders table\n",
    "7. grab the max order id from the orders table\n",
    "8. We will insert into the order_details table"
   ]
  },
  {
   "cell_type": "code",
   "execution_count": 10,
   "metadata": {},
   "outputs": [],
   "source": [
    "customer_id=\"CST101\"\n",
    "purchase=[('PRD103',3),\n",
    "('PRD104',2),\n",
    "('PRD102',1)\n",
    "]"
   ]
  },
  {
   "cell_type": "code",
   "execution_count": 8,
   "metadata": {},
   "outputs": [],
   "source": [
    "Order=datetime.datetime.now().strftime('%Y-%m-%d %H:%M:%S')"
   ]
  },
  {
   "cell_type": "code",
   "execution_count": 15,
   "metadata": {},
   "outputs": [
    {
     "name": "stdout",
     "output_type": "stream",
     "text": [
      "(500.0, 20)\n",
      "(1200.0, 30)\n",
      "(9000.0, 20)\n"
     ]
    }
   ],
   "source": [
    "try:\n",
    "    for p in purchase:\n",
    "       # print(p)\n",
    "       p_query=\"\"\"\n",
    "       Select price, quantity from products where product_id= %s\n",
    "       \"\"\"\n",
    "       cursor=connection.cursor()\n",
    "       cursor.execute(p_query,(p[0],))\n",
    "       result= cursor.fetchone()\n",
    "       print (result)\n",
    "\n",
    "\n",
    "\n",
    "except Error as err:\n",
    "    connection.rollback(  )\n",
    "    print (err)"
   ]
  }
 ],
 "metadata": {
  "kernelspec": {
   "display_name": "Python 3.10.5 64-bit",
   "language": "python",
   "name": "python3"
  },
  "language_info": {
   "codemirror_mode": {
    "name": "ipython",
    "version": 3
   },
   "file_extension": ".py",
   "mimetype": "text/x-python",
   "name": "python",
   "nbconvert_exporter": "python",
   "pygments_lexer": "ipython3",
   "version": "3.10.5"
  },
  "orig_nbformat": 4,
  "vscode": {
   "interpreter": {
    "hash": "7fe2ce31d528754a41c7b733151c91f44792d1958b63a6763af4295a2a14b638"
   }
  }
 },
 "nbformat": 4,
 "nbformat_minor": 2
}
